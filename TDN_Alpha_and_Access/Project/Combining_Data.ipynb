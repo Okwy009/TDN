{
 "cells": [
  {
   "cell_type": "code",
   "execution_count": 92,
   "id": "355b9182",
   "metadata": {},
   "outputs": [
    {
     "name": "stdout",
     "output_type": "stream",
     "text": [
      "['Full list of attendees', 'Companies seeking AI automation', 'AI freelancers & agencies for a', 'AI investors', 'AI startups']\n"
     ]
    }
   ],
   "source": [
    "import pandas as pd\n",
    "import matplotlib.pyplot as plt\n",
    "import seaborn as sns\n",
    "from wordcloud import WordCloud\n",
    "from collections import Counter\n",
    "\n",
    "# Load all sheets\n",
    "file_path = r'C:\\Users\\user\\Desktop\\Data_Analyst\\TDN_Network\\TDN_Alpha_and_Access\\AI_Showcase_Virtual_Conf_Full_attendee_list.xlsx'\n",
    "\n",
    "excel_file = pd.ExcelFile(file_path)\n",
    "print(excel_file.sheet_names)"
   ]
  },
  {
   "cell_type": "code",
   "execution_count": 93,
   "id": "093a7fdd",
   "metadata": {},
   "outputs": [],
   "source": [
    "all_sheets = pd.read_excel(file_path, sheet_name=None)\n",
    "\n",
    "df_attendees = all_sheets['Full list of attendees']\n",
    "df_companies = all_sheets['Companies seeking AI automation']\n",
    "df_freelancers = all_sheets['AI freelancers & agencies for a']\n",
    "df_investors = all_sheets['AI investors']\n",
    "df_startups = all_sheets['AI startups']\n"
   ]
  },
  {
   "cell_type": "code",
   "execution_count": 94,
   "id": "dff60bd7",
   "metadata": {},
   "outputs": [],
   "source": [
    "df_attendees = all_sheets['Full list of attendees']\n",
    "\n",
    "# Look for \"Founder\", \"Co-founder\", or similar in any of the likely title fields\n",
    "founders_df = df_attendees[\n",
    "    df_attendees['Business owner / CEO / Director'].astype(str).str.contains('founder', case=False, na=False)\n",
    "]\n",
    "\n",
    "# Filter Founders and Co.\n",
    "founders_df = df_attendees[df_attendees['Business owner / CEO / Director'].notna()]\n",
    "\n",
    "# Extract Founders’ Needs into a Structured Format\n",
    "def compile_needs(row):\n",
    "    needs = []\n",
    "    if pd.notna(row['Processes looking to be automated with AI']):\n",
    "        needs.append(\"Process Automation\")\n",
    "    if row.get('Interested in AI automation services for the company\\n(391)') == \"Yes\":\n",
    "        needs.append(\"AI Services\")\n",
    "    if row.get('Interested in educating their team on using AI in their job\\n(333)') == \"Yes\":\n",
    "        needs.append(\"Team AI Education\")\n",
    "    if row.get('Interested in taking an AI automation course themselves\\n(402)') == \"Yes\":\n",
    "        needs.append(\"Personal AI Training\")\n",
    "    return needs\n",
    "\n",
    "founders_df['founders_needs'] = founders_df.apply(compile_needs, axis=1)\n",
    "\n",
    "need_columns = [\n",
    "    'Processes looking to be automated with AI',\n",
    "    'Interested in AI automation services for the company\\n(391)',\n",
    "    'Interested in educating their team on using AI in their job\\n(333)',\n",
    "    'Interested in taking an AI automation course themselves\\n(402)'\n",
    "]\n",
    "\n",
    "founders_needs = founders_df[['Name', 'Company Name', 'Business owner / CEO / Director'] + need_columns]"
   ]
  },
  {
   "cell_type": "code",
   "execution_count": 95,
   "id": "52894050",
   "metadata": {},
   "outputs": [
    {
     "name": "stderr",
     "output_type": "stream",
     "text": [
      "C:\\Users\\user\\AppData\\Local\\Temp\\ipykernel_7204\\2955853571.py:1: SettingWithCopyWarning: \n",
      "A value is trying to be set on a copy of a slice from a DataFrame.\n",
      "Try using .loc[row_indexer,col_indexer] = value instead\n",
      "\n",
      "See the caveats in the documentation: https://pandas.pydata.org/pandas-docs/stable/user_guide/indexing.html#returning-a-view-versus-a-copy\n",
      "  founders_needs['Wants_Service'] = founders_needs['Interested in AI automation services for the company\\n(391)'].notna()\n",
      "C:\\Users\\user\\AppData\\Local\\Temp\\ipykernel_7204\\2955853571.py:2: SettingWithCopyWarning: \n",
      "A value is trying to be set on a copy of a slice from a DataFrame.\n",
      "Try using .loc[row_indexer,col_indexer] = value instead\n",
      "\n",
      "See the caveats in the documentation: https://pandas.pydata.org/pandas-docs/stable/user_guide/indexing.html#returning-a-view-versus-a-copy\n",
      "  founders_needs['Wants_Team_Education'] = founders_needs['Interested in educating their team on using AI in their job\\n(333)'].notna()\n",
      "C:\\Users\\user\\AppData\\Local\\Temp\\ipykernel_7204\\2955853571.py:3: SettingWithCopyWarning: \n",
      "A value is trying to be set on a copy of a slice from a DataFrame.\n",
      "Try using .loc[row_indexer,col_indexer] = value instead\n",
      "\n",
      "See the caveats in the documentation: https://pandas.pydata.org/pandas-docs/stable/user_guide/indexing.html#returning-a-view-versus-a-copy\n",
      "  founders_needs['Wants_Personal_Course'] = founders_needs['Interested in taking an AI automation course themselves\\n(402)'].notna()\n"
     ]
    },
    {
     "name": "stdout",
     "output_type": "stream",
     "text": [
      "Summary of Founder Needs:\n",
      "{'Wants_Service': np.int64(2458), 'Wants_Team_Education': np.int64(2458), 'Wants_Personal_Course': np.int64(2458)}\n"
     ]
    }
   ],
   "source": [
    "founders_needs['Wants_Service'] = founders_needs['Interested in AI automation services for the company\\n(391)'].notna()\n",
    "founders_needs['Wants_Team_Education'] = founders_needs['Interested in educating their team on using AI in their job\\n(333)'].notna()\n",
    "founders_needs['Wants_Personal_Course'] = founders_needs['Interested in taking an AI automation course themselves\\n(402)'].notna()\n",
    "\n",
    "\n",
    "summary = {\n",
    "    'Wants_Service': founders_needs['Wants_Service'].sum(),\n",
    "    'Wants_Team_Education': founders_needs['Wants_Team_Education'].sum(),\n",
    "    'Wants_Personal_Course': founders_needs['Wants_Personal_Course'].sum()\n",
    "}\n",
    "\n",
    "print(\"Summary of Founder Needs:\")\n",
    "print(summary)\n",
    "\n",
    "founders_needs.to_excel('Cleaned_Data/founders_needs_summary.xlsx', index=False)\n"
   ]
  },
  {
   "cell_type": "code",
   "execution_count": 96,
   "id": "8e90773b",
   "metadata": {},
   "outputs": [
    {
     "name": "stderr",
     "output_type": "stream",
     "text": [
      "C:\\Users\\user\\AppData\\Local\\Temp\\ipykernel_7204\\3393478023.py:13: SettingWithCopyWarning: \n",
      "A value is trying to be set on a copy of a slice from a DataFrame.\n",
      "Try using .loc[row_indexer,col_indexer] = value instead\n",
      "\n",
      "See the caveats in the documentation: https://pandas.pydata.org/pandas-docs/stable/user_guide/indexing.html#returning-a-view-versus-a-copy\n",
      "  founders_needs['Primary_Need'] = founders_needs.apply(get_primary_need, axis=1)\n"
     ]
    }
   ],
   "source": [
    "def get_primary_need(row):\n",
    "    if row['Wants_Service'] == 1:\n",
    "        return 'AI Service'\n",
    "    elif row['Wants_Team_Education'] == 1:\n",
    "        return 'Team Training'\n",
    "    elif row['Wants_Personal_Course'] == 1:\n",
    "        return 'Personal Upskilling'\n",
    "    elif pd.notna(row['Processes looking to be automated with AI']) and str(row['Processes looking to be automated with AI']).strip() != '':\n",
    "        return 'Process Automation'\n",
    "    else:\n",
    "        return 'Unspecified'\n",
    "\n",
    "founders_needs['Primary_Need'] = founders_needs.apply(get_primary_need, axis=1)"
   ]
  },
  {
   "cell_type": "markdown",
   "id": "d3e212a8",
   "metadata": {},
   "source": [
    "- INVESTORS — Categorize by Investment Interests"
   ]
  },
  {
   "cell_type": "code",
   "execution_count": 97,
   "id": "4f73e6df",
   "metadata": {},
   "outputs": [
    {
     "name": "stderr",
     "output_type": "stream",
     "text": [
      "C:\\Users\\user\\AppData\\Local\\Temp\\ipykernel_7204\\2507835960.py:29: SettingWithCopyWarning: \n",
      "A value is trying to be set on a copy of a slice from a DataFrame.\n",
      "Try using .loc[row_indexer,col_indexer] = value instead\n",
      "\n",
      "See the caveats in the documentation: https://pandas.pydata.org/pandas-docs/stable/user_guide/indexing.html#returning-a-view-versus-a-copy\n",
      "  df_investors_filtered['Focus Stage'] = df_investors_filtered.apply(classify_investor, axis=1)\n"
     ]
    },
    {
     "name": "stdout",
     "output_type": "stream",
     "text": [
      "Focus Stage\n",
      "Seed           127\n",
      "Series A        66\n",
      "Series B        48\n",
      "Series C+        5\n",
      "Unspecified      3\n",
      "Name: count, dtype: int64\n"
     ]
    }
   ],
   "source": [
    "# Load startup stage columns\n",
    "\n",
    "investment_columns = [\n",
    "    'Looking to invest in Pre-seed Startups\\n(198)',\n",
    "    'Looking to invest in Seed Startups\\n(226)',\n",
    "    'Looking to invest in Series A Startups\\n(115)',\n",
    "    'Looking to invest in Series B Startups\\n(51)',\n",
    "    'Looking to invest in Series C+ Startups\\n(5)'\n",
    "]\n",
    "\n",
    "df_investors_filtered = df_investors[['Name', 'Email', 'Company Name'] + investment_columns]\n",
    "\n",
    "# Add a column for investment stage focus\n",
    "\n",
    "def classify_investor(row):\n",
    "    if row['Looking to invest in Series C+ Startups\\n(5)'] == 1:\n",
    "        return 'Series C+'\n",
    "    elif row['Looking to invest in Series B Startups\\n(51)'] == 1:\n",
    "        return 'Series B'\n",
    "    elif row['Looking to invest in Series A Startups\\n(115)'] == 1:\n",
    "        return 'Series A'\n",
    "    elif row['Looking to invest in Seed Startups\\n(226)'] == 1:\n",
    "        return 'Seed'\n",
    "    elif row['Looking to invest in Pre-seed Startups\\n(198)'] == 1:\n",
    "        return 'Pre-seed'\n",
    "    else:\n",
    "        return 'Unspecified'\n",
    "\n",
    "df_investors_filtered['Focus Stage'] = df_investors_filtered.apply(classify_investor, axis=1)\n",
    "\n",
    "# \n",
    "\n",
    "df_investors_filtered.to_excel('Cleaned_Data/investor_categories.xlsx', index=False)\n",
    "print(df_investors_filtered['Focus Stage'].value_counts())"
   ]
  },
  {
   "cell_type": "markdown",
   "id": "bd6d3f5d",
   "metadata": {},
   "source": [
    "- STARTUPS — Categorize by Fundraising Stage"
   ]
  },
  {
   "cell_type": "code",
   "execution_count": 98,
   "id": "b5960280",
   "metadata": {},
   "outputs": [
    {
     "name": "stderr",
     "output_type": "stream",
     "text": [
      "C:\\Users\\user\\AppData\\Local\\Temp\\ipykernel_7204\\715845101.py:34: SettingWithCopyWarning: \n",
      "A value is trying to be set on a copy of a slice from a DataFrame.\n",
      "Try using .loc[row_indexer,col_indexer] = value instead\n",
      "\n",
      "See the caveats in the documentation: https://pandas.pydata.org/pandas-docs/stable/user_guide/indexing.html#returning-a-view-versus-a-copy\n",
      "  df_startups_filtered['Stage'] = df_startups_filtered.apply(classify_startup, axis=1)\n"
     ]
    },
    {
     "name": "stdout",
     "output_type": "stream",
     "text": [
      "Stage\n",
      "Bootstrapped    152\n",
      "Seed            147\n",
      "Series B          8\n",
      "Series A          7\n",
      "Series C+         3\n",
      "Unspecified       2\n",
      "Name: count, dtype: int64\n"
     ]
    }
   ],
   "source": [
    "# Load startup stage columns\n",
    "\n",
    "df_startups = all_sheets['AI startups']\n",
    "\n",
    "startup_stage_columns = [\n",
    "    'Bootstrapped\\n(195)',\n",
    "    'Pre-seed\\n(109)',\n",
    "    'Seed\\n(149)',\n",
    "    'Series A\\n(8)',\n",
    "    'Series B\\n(8)',\n",
    "    'Series C+\\n(3)'\n",
    "]\n",
    "\n",
    "df_startups_filtered = df_startups[['Name', 'Email', 'Company Name'] + startup_stage_columns]\n",
    "\n",
    "# Categorize fundraising stage\n",
    "\n",
    "def classify_startup(row):\n",
    "    if row['Series C+\\n(3)'] == 1:\n",
    "        return 'Series C+'\n",
    "    elif row['Series B\\n(8)'] == 1:\n",
    "        return 'Series B'\n",
    "    elif row['Series A\\n(8)'] == 1:\n",
    "        return 'Series A'\n",
    "    elif row['Seed\\n(149)'] == 1:\n",
    "        return 'Seed'\n",
    "    elif row['Pre-seed\\n(109)'] == 1:\n",
    "        return 'Pre-seed'\n",
    "    elif row['Bootstrapped\\n(195)'] == 1:\n",
    "        return 'Bootstrapped'\n",
    "    else:\n",
    "        return 'Unspecified'\n",
    "\n",
    "df_startups_filtered['Stage'] = df_startups_filtered.apply(classify_startup, axis=1)\n",
    "\n",
    "df_startups_filtered.to_excel('Cleaned_Data/startup_categories.xlsx', index=False)\n",
    "print(df_startups_filtered['Stage'].value_counts())\n",
    "\n"
   ]
  },
  {
   "cell_type": "code",
   "execution_count": null,
   "id": "c717a8eb",
   "metadata": {},
   "outputs": [],
   "source": []
  },
  {
   "cell_type": "markdown",
   "id": "eb2b24a2",
   "metadata": {},
   "source": [
    "- Match Investors to Startups Based on Stage"
   ]
  },
  {
   "cell_type": "code",
   "execution_count": 99,
   "id": "d3919ba9",
   "metadata": {},
   "outputs": [
    {
     "data": {
      "text/html": [
       "<div>\n",
       "<style scoped>\n",
       "    .dataframe tbody tr th:only-of-type {\n",
       "        vertical-align: middle;\n",
       "    }\n",
       "\n",
       "    .dataframe tbody tr th {\n",
       "        vertical-align: top;\n",
       "    }\n",
       "\n",
       "    .dataframe thead th {\n",
       "        text-align: right;\n",
       "    }\n",
       "</style>\n",
       "<table border=\"1\" class=\"dataframe\">\n",
       "  <thead>\n",
       "    <tr style=\"text-align: right;\">\n",
       "      <th></th>\n",
       "      <th>Startup Name</th>\n",
       "      <th>Startup Email</th>\n",
       "      <th>Startup Company</th>\n",
       "      <th>Stage</th>\n",
       "      <th>Investor Name</th>\n",
       "      <th>Investor Email</th>\n",
       "      <th>Investor Company</th>\n",
       "      <th>Focus Stage</th>\n",
       "    </tr>\n",
       "  </thead>\n",
       "  <tbody>\n",
       "    <tr>\n",
       "      <th>0</th>\n",
       "      <td>Marco Franciosa</td>\n",
       "      <td>marco@franciosa.it</td>\n",
       "      <td>Codename AGAIN - AI to transform audio enterta...</td>\n",
       "      <td>Seed</td>\n",
       "      <td>Mike Schatzman</td>\n",
       "      <td>NaN</td>\n",
       "      <td>VC</td>\n",
       "      <td>Seed</td>\n",
       "    </tr>\n",
       "    <tr>\n",
       "      <th>1</th>\n",
       "      <td>Marco Franciosa</td>\n",
       "      <td>marco@franciosa.it</td>\n",
       "      <td>Codename AGAIN - AI to transform audio enterta...</td>\n",
       "      <td>Seed</td>\n",
       "      <td>Rafael Igual</td>\n",
       "      <td>NaN</td>\n",
       "      <td>LATAM AI HUB Ventures @ AI-Native Venture Studio</td>\n",
       "      <td>Seed</td>\n",
       "    </tr>\n",
       "    <tr>\n",
       "      <th>2</th>\n",
       "      <td>Marco Franciosa</td>\n",
       "      <td>marco@franciosa.it</td>\n",
       "      <td>Codename AGAIN - AI to transform audio enterta...</td>\n",
       "      <td>Seed</td>\n",
       "      <td>Rajiv Mathew</td>\n",
       "      <td>NaN</td>\n",
       "      <td>Oracle Program Head</td>\n",
       "      <td>Seed</td>\n",
       "    </tr>\n",
       "    <tr>\n",
       "      <th>3</th>\n",
       "      <td>Marco Franciosa</td>\n",
       "      <td>marco@franciosa.it</td>\n",
       "      <td>Codename AGAIN - AI to transform audio enterta...</td>\n",
       "      <td>Seed</td>\n",
       "      <td>Priya Abraham</td>\n",
       "      <td>NaN</td>\n",
       "      <td>Vaeliou delivers comprehensive founder intelli...</td>\n",
       "      <td>Seed</td>\n",
       "    </tr>\n",
       "    <tr>\n",
       "      <th>4</th>\n",
       "      <td>Marco Franciosa</td>\n",
       "      <td>marco@franciosa.it</td>\n",
       "      <td>Codename AGAIN - AI to transform audio enterta...</td>\n",
       "      <td>Seed</td>\n",
       "      <td>Ron Myers</td>\n",
       "      <td>ron@islandcapital.vc</td>\n",
       "      <td>Early stage venture capital investor</td>\n",
       "      <td>Seed</td>\n",
       "    </tr>\n",
       "  </tbody>\n",
       "</table>\n",
       "</div>"
      ],
      "text/plain": [
       "      Startup Name       Startup Email  \\\n",
       "0  Marco Franciosa  marco@franciosa.it   \n",
       "1  Marco Franciosa  marco@franciosa.it   \n",
       "2  Marco Franciosa  marco@franciosa.it   \n",
       "3  Marco Franciosa  marco@franciosa.it   \n",
       "4  Marco Franciosa  marco@franciosa.it   \n",
       "\n",
       "                                     Startup Company Stage   Investor Name  \\\n",
       "0  Codename AGAIN - AI to transform audio enterta...  Seed  Mike Schatzman   \n",
       "1  Codename AGAIN - AI to transform audio enterta...  Seed    Rafael Igual   \n",
       "2  Codename AGAIN - AI to transform audio enterta...  Seed    Rajiv Mathew   \n",
       "3  Codename AGAIN - AI to transform audio enterta...  Seed   Priya Abraham   \n",
       "4  Codename AGAIN - AI to transform audio enterta...  Seed       Ron Myers   \n",
       "\n",
       "         Investor Email                                   Investor Company  \\\n",
       "0                   NaN                                                 VC   \n",
       "1                   NaN   LATAM AI HUB Ventures @ AI-Native Venture Studio   \n",
       "2                   NaN                                Oracle Program Head   \n",
       "3                   NaN  Vaeliou delivers comprehensive founder intelli...   \n",
       "4  ron@islandcapital.vc               Early stage venture capital investor   \n",
       "\n",
       "  Focus Stage  \n",
       "0        Seed  \n",
       "1        Seed  \n",
       "2        Seed  \n",
       "3        Seed  \n",
       "4        Seed  "
      ]
     },
     "execution_count": 99,
     "metadata": {},
     "output_type": "execute_result"
    }
   ],
   "source": [
    "# Make sure the dataframes are clean\n",
    "investors = df_investors_filtered[['Name', 'Email', 'Company Name', 'Focus Stage']].rename(columns={\n",
    "    'Name': 'Investor Name',\n",
    "    'Email': 'Investor Email',\n",
    "    'Company Name': 'Investor Company'\n",
    "})\n",
    "\n",
    "startups = df_startups_filtered[['Name', 'Email', 'Company Name', 'Stage']].rename(columns={\n",
    "    'Name': 'Startup Name',\n",
    "    'Email': 'Startup Email',\n",
    "    'Company Name': 'Startup Company'\n",
    "})\n",
    "\n",
    "# Match investors to startups based on stage\n",
    "matched_investor_startups = pd.merge(\n",
    "    startups,\n",
    "    investors,\n",
    "    left_on='Stage',\n",
    "    right_on='Focus Stage',\n",
    "    how='inner'\n",
    ")\n",
    "\n",
    "# Preview matches\n",
    "matched_investor_startups.head()\n"
   ]
  },
  {
   "cell_type": "code",
   "execution_count": 100,
   "id": "366e2691",
   "metadata": {},
   "outputs": [],
   "source": [
    "matched_investor_startups.to_excel('Cleaned_Data/matched_investors_to_startups.xlsx', index=False)\n"
   ]
  },
  {
   "cell_type": "markdown",
   "id": "2a98907f",
   "metadata": {},
   "source": [
    "- Match Freelancers/Agencies to Startups or Founders"
   ]
  },
  {
   "cell_type": "code",
   "execution_count": 101,
   "id": "cb908fc2",
   "metadata": {},
   "outputs": [],
   "source": [
    "# Filter Freelancers Offering Services\n",
    "\n",
    "df_freelancers = all_sheets['AI freelancers & agencies for a']\n",
    "\n",
    "freelancers = df_freelancers[\n",
    "    df_freelancers['Interested in AI automation services for the company\\n(70)'] == 1\n",
    "][['Name', 'Email', 'Company Name', 'AI tools used to automate client processes']]\n",
    "\n",
    "# Match to Founders Startups who Want Services\n",
    "founders_wanting_services = founders_needs[founders_needs['Wants_Service'] == 1][['Name', 'Company Name']]\n",
    "\n",
    "# Match to Startups who Want Services\n",
    "startups_wanting_services = df_startups[\n",
    "    df_startups['Interested in AI automation services for the company\\n(125)'] == 1\n",
    "][['Name', 'Company Name']]\n",
    "\n"
   ]
  },
  {
   "cell_type": "markdown",
   "id": "a668b562",
   "metadata": {},
   "source": [
    "- Cross Join and Recommend Freelancers"
   ]
  },
  {
   "cell_type": "code",
   "execution_count": 102,
   "id": "33ed100e",
   "metadata": {},
   "outputs": [],
   "source": [
    "# Add key for cross join\n",
    "freelancers['key'] = 1\n",
    "founders_wanting_services['key'] = 1\n",
    "\n",
    "# Match founders to freelancers\n",
    "matches_founders_freelancers = pd.merge(founders_wanting_services, freelancers, on='key')\n",
    "matches_founders_freelancers = matches_founders_freelancers.drop(columns='key')\n",
    "\n",
    "matches_founders_freelancers.to_excel('Cleaned_Data/founders_freelancers_matches.xlsx', index=False)\n"
   ]
  },
  {
   "cell_type": "markdown",
   "id": "92106273",
   "metadata": {},
   "source": [
    "- Founders’ Primary Needs"
   ]
  },
  {
   "cell_type": "code",
   "execution_count": 103,
   "id": "20e76b9c",
   "metadata": {},
   "outputs": [
    {
     "name": "stderr",
     "output_type": "stream",
     "text": [
      "C:\\Users\\user\\AppData\\Local\\Temp\\ipykernel_7204\\4213724930.py:9: FutureWarning: \n",
      "\n",
      "Passing `palette` without assigning `hue` is deprecated and will be removed in v0.14.0. Assign the `y` variable to `hue` and set `legend=False` for the same effect.\n",
      "\n",
      "  sns.barplot(x='Count', y='Need', data=needs_df, palette='coolwarm')\n"
     ]
    },
    {
     "data": {
      "image/png": "[encoded data removed]",
      "text/plain": [
       "<Figure size 1000x600 with 1 Axes>"
      ]
     },
     "metadata": {},
     "output_type": "display_data"
    }
   ],
   "source": [
    "# Count all needs\n",
    "all_needs = Counter([need for sublist in founders_df['founders_needs'] for need in sublist])\n",
    "\n",
    "# Convert to DataFrame\n",
    "needs_df = pd.DataFrame(all_needs.items(), columns=['Need', 'Count']).sort_values(by='Count', ascending=False)\n",
    "\n",
    "# Plot\n",
    "plt.figure(figsize=(10, 6))\n",
    "sns.barplot(x='Count', y='Need', data=needs_df, palette='coolwarm')\n",
    "plt.title('Top Needs of Founders and CEOs')\n",
    "plt.xlabel('Number of Founders')\n",
    "plt.ylabel('Need')\n",
    "\n",
    "# Save to images folder\n",
    "plt.savefig(\"images/founders_needs.png\", bbox_inches='tight')\n",
    "plt.show()"
   ]
  },
  {
   "cell_type": "code",
   "execution_count": 104,
   "id": "3674559f",
   "metadata": {},
   "outputs": [
    {
     "name": "stderr",
     "output_type": "stream",
     "text": [
      "C:\\Users\\user\\AppData\\Local\\Temp\\ipykernel_7204\\2938961773.py:3: FutureWarning: \n",
      "\n",
      "Passing `palette` without assigning `hue` is deprecated and will be removed in v0.14.0. Assign the `x` variable to `hue` and set `legend=False` for the same effect.\n",
      "\n",
      "  sns.countplot(data=founders_needs, x='Primary_Need', order=founders_needs['Primary_Need'].value_counts().index, palette='viridis')\n"
     ]
    },
    {
     "data": {
      "image/png": "[encoded data removed]",
      "text/plain": [
       "<Figure size 800x500 with 1 Axes>"
      ]
     },
     "metadata": {},
     "output_type": "display_data"
    }
   ],
   "source": [
    "# Plot founder need categories\n",
    "plt.figure(figsize=(8, 5))\n",
    "sns.countplot(data=founders_needs, x='Primary_Need', order=founders_needs['Primary_Need'].value_counts().index, palette='viridis')\n",
    "plt.title('Primary Needs of Founders')\n",
    "plt.xticks(rotation=30)\n",
    "plt.tight_layout()\n",
    "plt.savefig('images/founders_primary_needs.png')"
   ]
  },
  {
   "cell_type": "code",
   "execution_count": 105,
   "id": "03391fce",
   "metadata": {},
   "outputs": [
    {
     "name": "stderr",
     "output_type": "stream",
     "text": [
      "C:\\Users\\user\\AppData\\Local\\Temp\\ipykernel_7204\\1400478089.py:2: FutureWarning: \n",
      "\n",
      "Passing `palette` without assigning `hue` is deprecated and will be removed in v0.14.0. Assign the `x` variable to `hue` and set `legend=False` for the same effect.\n",
      "\n",
      "  sns.countplot(data=df_investors_filtered, x='Focus Stage', order=df_investors_filtered['Focus Stage'].value_counts().index, palette='magma')\n"
     ]
    },
    {
     "data": {
      "image/png": "[encoded data removed]",
      "text/plain": [
       "<Figure size 800x500 with 1 Axes>"
      ]
     },
     "metadata": {},
     "output_type": "display_data"
    }
   ],
   "source": [
    "plt.figure(figsize=(8, 5))\n",
    "sns.countplot(data=df_investors_filtered, x='Focus Stage', order=df_investors_filtered['Focus Stage'].value_counts().index, palette='magma')\n",
    "plt.title('Investor Focus by Stage')\n",
    "plt.xticks(rotation=30)\n",
    "plt.tight_layout()\n",
    "plt.savefig('images/investor_focus_stage.png')"
   ]
  },
  {
   "cell_type": "code",
   "execution_count": 106,
   "id": "6b7a5ae4",
   "metadata": {},
   "outputs": [
    {
     "name": "stderr",
     "output_type": "stream",
     "text": [
      "C:\\Users\\user\\AppData\\Local\\Temp\\ipykernel_7204\\1189988630.py:2: FutureWarning: \n",
      "\n",
      "Passing `palette` without assigning `hue` is deprecated and will be removed in v0.14.0. Assign the `x` variable to `hue` and set `legend=False` for the same effect.\n",
      "\n",
      "  sns.countplot(data=df_startups_filtered, x='Stage', order=df_startups_filtered['Stage'].value_counts().index, palette='coolwarm')\n"
     ]
    },
    {
     "data": {
      "image/png": "[encoded data removed]",
      "text/plain": [
       "<Figure size 800x500 with 1 Axes>"
      ]
     },
     "metadata": {},
     "output_type": "display_data"
    }
   ],
   "source": [
    "plt.figure(figsize=(8, 5))\n",
    "sns.countplot(data=df_startups_filtered, x='Stage', order=df_startups_filtered['Stage'].value_counts().index, palette='coolwarm')\n",
    "plt.title('Startup Fundraising Stage Distribution')\n",
    "plt.xticks(rotation=30)\n",
    "plt.tight_layout()\n",
    "plt.savefig('images/startup_stages.png')"
   ]
  },
  {
   "cell_type": "code",
   "execution_count": 107,
   "id": "6541703d",
   "metadata": {},
   "outputs": [
    {
     "data": {
      "image/png": "[encoded data removed]",
      "text/plain": [
       "<Figure size 500x500 with 1 Axes>"
      ]
     },
     "metadata": {},
     "output_type": "display_data"
    }
   ],
   "source": [
    "freelancers_count = freelancers.shape[0]\n",
    "\n",
    "plt.figure(figsize=(5, 5))\n",
    "plt.bar(['Freelancers Available'], [freelancers_count], color='teal')\n",
    "plt.title('Freelancers or Agencies Ready to Support')\n",
    "plt.ylabel('Count')\n",
    "plt.tight_layout()\n",
    "plt.savefig('images/freelancers_available.png')"
   ]
  }
 ],
 "metadata": {
  "kernelspec": {
   "display_name": "python_course",
   "language": "python",
   "name": "python3"
  },
  "language_info": {
   "codemirror_mode": {
    "name": "ipython",
    "version": 3
   },
   "file_extension": ".py",
   "mimetype": "text/x-python",
   "name": "python",
   "nbconvert_exporter": "python",
   "pygments_lexer": "ipython3",
   "version": "3.11.13"
  }
 },
 "nbformat": 4,
 "nbformat_minor": 5
}
